{
 "cells": [
  {
   "cell_type": "code",
   "execution_count": null,
   "metadata": {},
   "outputs": [],
   "source": [
    "#Reference: https://medium.com/crypto-currently/lets-make-the-tiniest-blockchain-bigger-ac360a328f4d"
   ]
  },
  {
   "cell_type": "code",
   "execution_count": 40,
   "metadata": {},
   "outputs": [],
   "source": [
    "import hashlib\n",
    "import datetime\n",
    "from flask import Flask\n",
    "from flask import request\n",
    "import json"
   ]
  },
  {
   "cell_type": "code",
   "execution_count": 126,
   "metadata": {},
   "outputs": [],
   "source": [
    "class Block:\n",
    "    def __init__(self,index,timestamp,data,previous_hash):\n",
    "        self.index = index\n",
    "        self.timestamp = timestamp\n",
    "        self.data = data\n",
    "        self.previous_hash = previous_hash\n",
    "        self.hash = self.hash_block()\n",
    "        \n",
    "    def hash_block(self):\n",
    "        sha = hashlib.sha256()\n",
    "        sha.update(str(self.index).encode('utf-8') +\n",
    "                   str(self.timestamp).encode('utf-8') +\n",
    "                   str(self.data).encode('utf-8') +\n",
    "                   str(self.previous_hash).encode('utf-8'))\n",
    "        return sha.hexdigest()\n",
    "        "
   ]
  },
  {
   "cell_type": "code",
   "execution_count": 91,
   "metadata": {},
   "outputs": [],
   "source": [
    "def create_genesis_block():\n",
    "    return Block(0,datetime.datetime.now(),{\n",
    "        \"proof-of-work\":9,\n",
    "        \"transaction\":\"Genesis Block\"},\"0\")\n",
    "\n"
   ]
  },
  {
   "cell_type": "code",
   "execution_count": 139,
   "metadata": {},
   "outputs": [],
   "source": [
    "blockchain=[]\n",
    "this_nodes_transactions = []\n",
    "\n",
    "blockchain.append(create_genesis_block())\n"
   ]
  },
  {
   "cell_type": "code",
   "execution_count": 92,
   "metadata": {},
   "outputs": [],
   "source": [
    "def next_block(last_block):\n",
    "    index = last_block.index + 1\n",
    "    timestamp = datetime.datetime.now()\n",
    "    data = \"New block with index\" + str(index)\n",
    "    previous_hash = last_block.previous_hash\n",
    "    return Block(index,timestamp,data,previous_hash)"
   ]
  },
  {
   "cell_type": "code",
   "execution_count": 102,
   "metadata": {},
   "outputs": [
    {
     "data": {
      "text/plain": [
       "{'proof-of-work': 9, 'transaction': 'Genesis Block'}"
      ]
     },
     "execution_count": 102,
     "metadata": {},
     "output_type": "execute_result"
    }
   ],
   "source": [
    "blockchain[0].data"
   ]
  },
  {
   "cell_type": "code",
   "execution_count": 50,
   "metadata": {},
   "outputs": [
    {
     "name": "stdout",
     "output_type": "stream",
     "text": [
      "Block 1 has been added to the chain\n",
      "Hash value: 9daa706279b7338be8bb2df9a6c45800cd338723cf327c922e0c7f6232ccb57f\n",
      "Block 2 has been added to the chain\n",
      "Hash value: 821dac66b3497ff5f083657874d865638a152e38c4b76ee57fe4c46344f8c109\n",
      "Block 3 has been added to the chain\n",
      "Hash value: 99852bcd6e02593674a6e98bed64edf8512e4b57cc447c7e3c974b4f746a1527\n",
      "Block 4 has been added to the chain\n",
      "Hash value: da9fb49c4463eddefe49ec883d9508b2eea00a50334994bb6f030cc87ae5625f\n",
      "Block 5 has been added to the chain\n",
      "Hash value: 9e0bf1f3b3473962e84f4d1b37b377f7298b0d981175f63cab7e748e8401bdfe\n",
      "Block 6 has been added to the chain\n",
      "Hash value: 18d65c37bce524fbed21b509ed4f0301f9876d67fe9c240e21860fb0fc789e74\n",
      "Block 7 has been added to the chain\n",
      "Hash value: d9239ab8acb3e8c0ee51bb2cb1aaf793eb7be8c5d361eed03da35ddac60664e8\n",
      "Block 8 has been added to the chain\n",
      "Hash value: 4796f7888137c6fa44166fdf8212414cf1deffd66daefc78163e1874a1003592\n",
      "Block 9 has been added to the chain\n",
      "Hash value: 0e1cd874f365ff10e2134138f4dd8f17118b521b9591c148c2770db44d94bc5c\n",
      "Block 10 has been added to the chain\n",
      "Hash value: 8bdc3bdbabb264b87ef83c8b2d9526c942cf1e41163e4c68687c24ddfc353409\n",
      "Block 11 has been added to the chain\n",
      "Hash value: dd45ca5ec75e17a50b3d62b5abd2b0ebdd6f17f6d8e3a8e26cd95a72d7799750\n",
      "Block 12 has been added to the chain\n",
      "Hash value: 115d6e97d60957cf298e2449a677cc889b474eb540676cc9f3427457cca0048f\n",
      "Block 13 has been added to the chain\n",
      "Hash value: 19fd086ece121b73e4f91f80b4cf5466d8aa2ef4c44c30a49b956ec24e9a2620\n",
      "Block 14 has been added to the chain\n",
      "Hash value: 3a9df38d9ccdf061e6362ce809a610b9e478bf94e0c2d94daaaaa7c4f35ddc24\n",
      "Block 15 has been added to the chain\n",
      "Hash value: f92555350dea6f23d860acbb58178a5e52f56774fb5c4b65b4eb9fffd85e128f\n",
      "Block 16 has been added to the chain\n",
      "Hash value: 50075713693edb88ed77fed3fdc884cbcda8af9bbf80a103cca509f01984e136\n",
      "Block 17 has been added to the chain\n",
      "Hash value: 2753c712428b67dd0962a334f4fb47b33c1d19bfda79812958540e5159ecc12f\n",
      "Block 18 has been added to the chain\n",
      "Hash value: 30c0dbb9930453772121a3a57cc1771d0c00fc0d5615144824653c492e0a35f1\n",
      "Block 19 has been added to the chain\n",
      "Hash value: eb7b4c8bb0ebb419764ed6c6572bc298ca217b1c3c115969e0c3c0f0fdf45abd\n"
     ]
    }
   ],
   "source": [
    "genesis_block = blockchain[0]\n",
    "\n",
    "#adding 20 blocks\n",
    "for i in range(1,20):\n",
    "    blockchain.append(next_block(blockchain[i-1]))\n",
    "    print(f'Block {i} has been added to the chain')\n",
    "    print(f'Hash value: {blockchain[i].hash}')\n",
    "    #c0e1dccff39ef193ce827f7f9ea75940af3ab2a43f1167cae9924f4cb37d7cb1"
   ]
  },
  {
   "cell_type": "code",
   "execution_count": 147,
   "metadata": {},
   "outputs": [
    {
     "name": "stdout",
     "output_type": "stream",
     "text": [
      " * Serving Flask app \"__main__\" (lazy loading)\n",
      " * Environment: production\n",
      "   WARNING: This is a development server. Do not use it in a production deployment.\n",
      "   Use a production WSGI server instead.\n",
      " * Debug mode: off\n"
     ]
    },
    {
     "name": "stderr",
     "output_type": "stream",
     "text": [
      " * Running on http://127.0.0.1:5000/ (Press CTRL+C to quit)\n",
      "127.0.0.1 - - [23/Jun/2020 01:39:13] \"\u001b[37mGET /blocks HTTP/1.1\u001b[0m\" 200 -\n"
     ]
    },
    {
     "name": "stdout",
     "output_type": "stream",
     "text": [
      "[{'index': 0, 'data': {'proof-of-work': 9, 'transaction': 'Genesis Block'}}, {'index': 1, 'data': {'proof-of-work': 18, 'transactions': [{'from': 'network', 'to': 'abcs-random-miner-1234', 'amount': 1}]}}, {'index': 2, 'data': {'proof-of-work': 36, 'transactions': [{'from': 'sdf', 'to': 'geets', 'amount': 20}, {'from': 'network', 'to': 'abcs-random-miner-1234', 'amount': 1}]}}]\n"
     ]
    },
    {
     "name": "stderr",
     "output_type": "stream",
     "text": [
      "127.0.0.1 - - [23/Jun/2020 01:39:34] \"\u001b[37mGET /mine HTTP/1.1\u001b[0m\" 200 -\n",
      "127.0.0.1 - - [23/Jun/2020 01:39:37] \"\u001b[37mGET /blocks HTTP/1.1\u001b[0m\" 200 -\n"
     ]
    },
    {
     "name": "stdout",
     "output_type": "stream",
     "text": [
      "[{'index': 0, 'data': {'proof-of-work': 9, 'transaction': 'Genesis Block'}}, {'index': 1, 'data': {'proof-of-work': 18, 'transactions': [{'from': 'network', 'to': 'abcs-random-miner-1234', 'amount': 1}]}}, {'index': 2, 'data': {'proof-of-work': 36, 'transactions': [{'from': 'sdf', 'to': 'geets', 'amount': 20}, {'from': 'network', 'to': 'abcs-random-miner-1234', 'amount': 1}]}}, {'index': 3, 'data': {'proof-of-work': 72, 'transactions': [{'from': 'network', 'to': 'abcs-random-miner-1234', 'amount': 1}]}}]\n"
     ]
    }
   ],
   "source": [
    "node = Flask(__name__)\n",
    "\n",
    "@node.route('/transaction',methods=['POST'])\n",
    "def submit_transaction():\n",
    "    if request.method == 'POST':\n",
    "        #extract data\n",
    "        print(request.get_json())\n",
    "        new_transaction = request.get_json()\n",
    "        print(new_transaction)\n",
    "        this_nodes_transactions.append(new_transaction)\n",
    "        print('New Transaction')\n",
    "        print(f\"From: {new_transaction['from']}\")\n",
    "        print(f\"To: {new_transaction['to']}\")\n",
    "        print(f\"Amount: {new_transaction['amount']}\")\n",
    "        return 'Transaction Submitted Succesfully!'\n",
    "              \n",
    "miner_address = 'abcs-random-miner-1234'\n",
    "\n",
    "def proof_of_work(last_proof):\n",
    "    incrementor = last_proof + 1     \n",
    "    while not((incrementor % 9 == 0) & (incrementor % last_proof == 0)):\n",
    "        incrementor += 1\n",
    "    return incrementor\n",
    "\n",
    "@node.route('/mine',methods=['GET'])\n",
    "def mine():\n",
    "    last_block = blockchain[len(blockchain) - 1]\n",
    "    last_proof = last_block.data['proof-of-work']\n",
    "    proof = proof_of_work(last_proof)\n",
    "    this_nodes_transactions.append(\n",
    "    {\n",
    "        \"from\":\"network\",\n",
    "        \"to\":miner_address,\n",
    "        \"amount\":1\n",
    "    })\n",
    "    new_block_data = {\n",
    "        \"proof-of-work\":proof,\n",
    "        \"transactions\":list(this_nodes_transactions)\n",
    "        \n",
    "    }\n",
    "    this_nodes_transactions[:]=[]\n",
    "   \n",
    "    mined_block = Block(\n",
    "                        last_block.index + 1,\n",
    "                        datetime.datetime.now(),\n",
    "                        new_block_data,\n",
    "                        last_block.hash\n",
    "                        )\n",
    "    blockchain.append(mined_block)\n",
    "    \n",
    "\n",
    "    return json.dumps({\n",
    "        \"index\":str(mined_block.index),\n",
    "        \"timestamp\":str(mined_block.timestamp),\n",
    "        \"data\":str(new_block_data),\n",
    "        \"hash\":str(last_block.hash)\n",
    "    })+ \"\\n\"\n",
    "        \n",
    "@node.route('/blocks',methods=['GET'])\n",
    "def get_blocks():\n",
    "    blocks = []\n",
    "    for i in range(len(blockchain)):\n",
    "              block = blockchain[i]\n",
    "              block = {\n",
    "                  \"index\":block.index,\n",
    "                  \"data\":block.data\n",
    "              }\n",
    "              blocks.append(block)\n",
    "    print(blocks)\n",
    "    return json.dumps(blocks)\n",
    "\n",
    "def find_new_chains():\n",
    "    other_chains = []\n",
    "    for node_url in peer_nodes:\n",
    "        block = requests.get(node_url + \"/blocks\").content\n",
    "        other_chains.append(block)\n",
    "    return other_chains\n",
    "\n",
    "def consensus():\n",
    "    other_chains = find_new_chain()\n",
    "    longest_chain = blockchain\n",
    "    for chain in other_chains:\n",
    "        if(len(longest_chain) < chain):\n",
    "            longest_chain = chain\n",
    "    blockchain = longest_chain\n",
    "              \n",
    "        \n",
    "        \n",
    "node.run()"
   ]
  },
  {
   "cell_type": "code",
   "execution_count": 133,
   "metadata": {},
   "outputs": [],
   "source": [
    "import json"
   ]
  },
  {
   "cell_type": "markdown",
   "metadata": {},
   "source": [
    "json.dumps()"
   ]
  },
  {
   "cell_type": "code",
   "execution_count": 134,
   "metadata": {},
   "outputs": [
    {
     "ename": "TypeError",
     "evalue": "dumps() missing 1 required positional argument: 'obj'",
     "output_type": "error",
     "traceback": [
      "\u001b[1;31m---------------------------------------------------------------------------\u001b[0m",
      "\u001b[1;31mTypeError\u001b[0m                                 Traceback (most recent call last)",
      "\u001b[1;32m<ipython-input-134-e359d2f58363>\u001b[0m in \u001b[0;36m<module>\u001b[1;34m\u001b[0m\n\u001b[1;32m----> 1\u001b[1;33m \u001b[0mjson\u001b[0m\u001b[1;33m.\u001b[0m\u001b[0mdumps\u001b[0m\u001b[1;33m(\u001b[0m\u001b[1;33m)\u001b[0m\u001b[1;33m\u001b[0m\u001b[1;33m\u001b[0m\u001b[0m\n\u001b[0m",
      "\u001b[1;31mTypeError\u001b[0m: dumps() missing 1 required positional argument: 'obj'"
     ]
    }
   ],
   "source": [
    "json.dumps()"
   ]
  },
  {
   "cell_type": "code",
   "execution_count": null,
   "metadata": {},
   "outputs": [],
   "source": []
  }
 ],
 "metadata": {
  "kernelspec": {
   "display_name": "Python 3",
   "language": "python",
   "name": "python3"
  },
  "language_info": {
   "codemirror_mode": {
    "name": "ipython",
    "version": 3
   },
   "file_extension": ".py",
   "mimetype": "text/x-python",
   "name": "python",
   "nbconvert_exporter": "python",
   "pygments_lexer": "ipython3",
   "version": "3.7.3"
  }
 },
 "nbformat": 4,
 "nbformat_minor": 2
}
